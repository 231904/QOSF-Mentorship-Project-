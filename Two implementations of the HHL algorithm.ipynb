{
 "cells": [
  {
   "cell_type": "markdown",
   "id": "f12fa151",
   "metadata": {},
   "source": [
    "## Example 1: Calculating the temperature distribution of a metal plate"
   ]
  },
  {
   "cell_type": "markdown",
   "id": "975473d4",
   "metadata": {},
   "source": [
    "### Theory"
   ]
  },
  {
   "cell_type": "markdown",
   "id": "8d7df5c0",
   "metadata": {},
   "source": [
    "Suppose we have a two-dimensional rectangular plate that is subjected to certain boundary conditions- one side is kept at 100 degrees Celsius and the rest of the sides are kept at 0. Our target is to calculate the temperature distribution at each point. "
   ]
  },
  {
   "cell_type": "markdown",
   "id": "8248b91d",
   "metadata": {},
   "source": [
    "The way we will do that is to divide the plate in a lattice, and calculate the temperature at each point, using the Laplace equation and making use of the finite difference method and the Harrow-Hassidim-Lloyd (HHL) algorithm."
   ]
  },
  {
   "cell_type": "markdown",
   "id": "a0332e7e",
   "metadata": {},
   "source": [
    "The <b>Laplace equation </b> for a steady bidimensional system is:\n",
    "$$\\frac{\\partial^2 T}{\\partial x^2} + \\frac{\\partial^2 T}{\\partial y^2} = 0 $$"
   ]
  },
  {
   "cell_type": "markdown",
   "id": "6017da4c",
   "metadata": {},
   "source": [
    "We can use the finite difference method to derive another form of this equation for the nodal point $(i, j)$ on the lattice. \n",
    "$$\\frac{\\partial^2 T}{\\partial x^2} \\Biggr|_{(i, j)} = \\frac{1}{\\Delta x} \\frac{(T_{i+1, j} - T_{i, j})-(T_{i, j} - T_{i-1, j})}{\\Delta x}= \\frac{T_{i+1, j} -2 T_{i, j} + T_{i-1, j}}{\\Delta x^2}$$"
   ]
  },
  {
   "cell_type": "markdown",
   "id": "64d7fd99",
   "metadata": {},
   "source": [
    "And one can obtain an analogous expression for $y$. Next, we are going to define the lattice constant, $h = \\Delta x = \\Delta y$. Putting everything together, we obtain:"
   ]
  },
  {
   "cell_type": "markdown",
   "id": "7c2f784c",
   "metadata": {},
   "source": [
    "$$\\frac{T_{i+1, j} -2 T_{i, j} + T_{i-1, j}}{h^2} + \\frac{T_{i, j+1} -2 T_{i, j} + T_{i, j-1}}{h^2} = 0$$"
   ]
  },
  {
   "cell_type": "markdown",
   "id": "baa12d65",
   "metadata": {},
   "source": [
    "$$ 4T_{i, j} - T_{i-1, j} - T_{i, j-1} - T_{i+1, j} - T_{i, j+1} = 0 $$"
   ]
  },
  {
   "cell_type": "markdown",
   "id": "7b13025e",
   "metadata": {},
   "source": [
    "From the symmetry of the particular abovementioned system, we can exploit the symmetry to reduce the number of unknowns to only eight (the points in the middle and one of the sides)."
   ]
  },
  {
   "cell_type": "markdown",
   "id": "743459e5",
   "metadata": {},
   "source": [
    "]We end up with the following system of equations:\n",
    "    $$ 4T_{1,1} - 0 -T_{1,2} - T_{2,1} - 100 = 0 $$\n",
    "    $$ 3T_{2,1} - T_{1,1} - T_{2,2} - T_{1,1} - 100 = 0 $$\n",
    "    $$ 4T_{1,2} - 0 - T_{1,3} - T_{2,2} - T_{1,1} = 0 $$\n",
    "    $$ 3T_{2,2} - T_{2,3} - T_{1,2} - T_{2,1} = 0 $$\n",
    "    $$ 4T_{1,3} - 0 - T_{1,4} - T_{2,3} - T_{1,2} = 0 $$\n",
    "    $$ 3T_{2,3} - T_{1,3} - T_{2,4} - T_{2,2} = 0 $$\n",
    "    $$ 4T_{1,4} - 0 - 0 - T_{1,3} - T_{2,4} = 0 $$\n",
    "    $$ 4T_{1,4} - 0 - 0 - T_{1,3} - T_{2,4} = 0 $$"
   ]
  },
  {
   "cell_type": "markdown",
   "id": "f8b027cd",
   "metadata": {},
   "source": [
    "Which can be written in matrix form:\n",
    "$$\\begin{pmatrix}\n",
    "4 & -1 & -1 & 0 & 0 & 0 & 0 & 0\\\\\n",
    "-1 & 3 & 0 & -1 & 0 & 0 & 0 & 0 \\\\\n",
    "-1 & 0 & 4 & -1 & -1 & 0 & 0 & 0 \\\\\n",
    "0 & -1 & -1 & 3 & 0 & -1 & 0 & 0 \\\\\n",
    "0 & 0 & -1 & 0 & 4 & -1 & -1 & 0 \\\\\n",
    "0 & 0 & 0 & -1 & -1 & 3 & 0 & -1 \\\\\n",
    "0 & 0 & 0 & 0 & -1 & 0 & 4 & -1 \\\\\n",
    "0 & 0 & 0 & 0 & 0 & -1 & -1 & 3 \\\\\n",
    "\\end{pmatrix}\n",
    "\\begin{pmatrix}\n",
    "T_{1,1} \\\\\n",
    "T_{2,1} \\\\\n",
    "T_{1,2} \\\\\n",
    "T_{2,2} \\\\\n",
    "T_{1,3} \\\\\n",
    "T_{2,3} \\\\\n",
    "T_{1,4} \\\\\n",
    "T_{2,4}\n",
    "\\end{pmatrix}\n",
    "=\n",
    "\\begin{pmatrix}\n",
    "100 \\\\\n",
    "100 \\\\\n",
    "0 \\\\\n",
    "0 \\\\\n",
    "0 \\\\\n",
    "0 \\\\\n",
    "0 \\\\\n",
    "0\n",
    "\\end{pmatrix}\n",
    "$$"
   ]
  },
  {
   "cell_type": "markdown",
   "id": "29db9714",
   "metadata": {},
   "source": [
    "### The HHL Algorithm"
   ]
  },
  {
   "cell_type": "markdown",
   "id": "16f85753",
   "metadata": {},
   "source": [
    "Now, we are ready to apply the HHL algorithm. What this algorithm does is, given a matrix $A$ and a vector $\\vec{b}$, it finds a vector $\\vec{x}$, such as $A\\vec{x}=\\vec{b}$. The matrix must be Hermitian so that it can be converted to an unitary operator. However, the algorithm can work with a non-Hermitian matrix too, by constructing an auxiliary matrix that satisfies this condition, like this:\n",
    "$$ C =\n",
    "\\begin{pmatrix}\n",
    "0  & A \\\\\n",
    "A^\\dag & 0\n",
    "\\end{pmatrix}\n",
    "$$\n"
   ]
  },
  {
   "cell_type": "markdown",
   "id": "2849d5cf",
   "metadata": {},
   "source": [
    "Another condition that has to be imposed is that the matrix has a number of $N=2^n$ rows/columns. That is because we need a number of $n$ qubits to represent $N$ numbers. This can be engineered by choosing the lattice points accordingly."
   ]
  },
  {
   "cell_type": "markdown",
   "id": "abfee84f",
   "metadata": {},
   "source": [
    "The advantage of the algorithm is its speedup. A system of linear equations is called  $s$-sparse if it has at most $s$ non-zero entries per row or column. Solving an $s$-sparse system of size $N$ with a classical computer requires $\\mathcal{O}(Nsk\\log{1/\\epsilon})$ running time using the conjugate gradient method, where $k$ denotes the condition number of the system and $\\epsilon$ is the accuracy of the approximation. The HHL algorithm requires running time complexity $\\mathcal{O}(s^2k^2/\\epsilon\\log{N})$."
   ]
  },
  {
   "cell_type": "code",
   "execution_count": 27,
   "id": "e4856bb4",
   "metadata": {},
   "outputs": [],
   "source": [
    "# importing libraries\n",
    "import qiskit\n",
    "import numpy as np\n",
    "from linear_solvers import NumPyLinearSolver, HHL\n",
    "\n",
    "#constructing the matrix A and the vector b\n",
    "matrix = np.array([[4, -1, -1, 0, 0, 0, 0, 0], [-1, 3, 0, -1, 0, 0, 0, 0], [-1, 0, 4, -1, -1, 0, 0, 0], [0, -1, -1, 3, 0, -1, 0, 0], [0, 0, -1, 0, 4, -1, -1, 0], [0, 0, 0, -1, -1, 3, 0, -1], [0, 0, 0, 0, -1, 0, 4, -1], [0, 0, 0, 0, 0, -1, -1, 3]])\n",
    "vector = np.array([100, 100, 0, 0, 0, 0, 0, 0])\n",
    "\n",
    "#defining the HHL solution and the classical solution (used for reference purposes)\n",
    "naive_hhl_solution = HHL().solve(matrix, vector)\n",
    "classical_solution = NumPyLinearSolver().solve(matrix,\n",
    "                                               vector/np.linalg.norm(vector))"
   ]
  },
  {
   "cell_type": "code",
   "execution_count": 28,
   "id": "798e33be",
   "metadata": {},
   "outputs": [
    {
     "name": "stdout",
     "output_type": "stream",
     "text": [
      "classical state: [0.32141217 0.42051426 0.15802765 0.23302383 0.07767461 0.12052956\n",
      " 0.03214122 0.05089026]\n"
     ]
    }
   ],
   "source": [
    "#calculating the solution using classical methods\n",
    "print('classical state:', classical_solution.state)"
   ]
  },
  {
   "cell_type": "markdown",
   "id": "d177a4a1",
   "metadata": {},
   "source": [
    "We notice that if we plug these numbers back in, we get the matrix:\n",
    "    $$   \\begin{pmatrix}\n",
    "0.70710677\\\\\n",
    "0.70710677 \\\\\n",
    "-0.00000001 \\\\\n",
    "0.00000002\\\\\n",
    "0.00000001\\\\\n",
    "-0.00000002 \\\\\n",
    "0.00000001 \\\\\n",
    "0\n",
    "\\end{pmatrix}\n",
    "$$"
   ]
  },
  {
   "cell_type": "markdown",
   "id": "e7d19f51",
   "metadata": {},
   "source": [
    "Therefore we rescale the classical solution:"
   ]
  },
  {
   "cell_type": "code",
   "execution_count": 33,
   "id": "aa027ac3",
   "metadata": {},
   "outputs": [],
   "source": [
    " classical_solution.state = classical_solution.state*100/0.70710677"
   ]
  },
  {
   "cell_type": "code",
   "execution_count": 34,
   "id": "ebed33e1",
   "metadata": {},
   "outputs": [
    {
     "name": "stdout",
     "output_type": "stream",
     "text": [
      "classical state: [45.45454617 59.46969791 22.3484852  32.95454598 10.98484866 17.04545482\n",
      "  4.54545462  7.19696981]\n"
     ]
    }
   ],
   "source": [
    "print('classical state:', classical_solution.state)"
   ]
  },
  {
   "cell_type": "markdown",
   "id": "e966b670",
   "metadata": {},
   "source": [
    "print('naive state:')\n",
    "print(naive_hhl_solution.state)"
   ]
  },
  {
   "cell_type": "code",
   "execution_count": 35,
   "id": "90dc2a48",
   "metadata": {},
   "outputs": [
    {
     "name": "stdout",
     "output_type": "stream",
     "text": [
      "classical Euclidean norm: 0.6193500362487158\n",
      "naive Euclidean norm: 0.6254241275267816\n"
     ]
    }
   ],
   "source": [
    "print('classical Euclidean norm:', classical_solution.euclidean_norm)\n",
    "print('naive Euclidean norm:', naive_hhl_solution.euclidean_norm)"
   ]
  },
  {
   "cell_type": "code",
   "execution_count": 54,
   "id": "17976c07",
   "metadata": {},
   "outputs": [
    {
     "name": "stdout",
     "output_type": "stream",
     "text": [
      "naive raw solution vector: [ 0.59637106+5.96566738e-14j  0.53617984+1.04241214e-13j\n",
      " -0.12709113-2.19903155e-14j -0.20205161-3.53421913e-14j\n",
      " -0.09608339-2.00372154e-14j -0.15492271-2.35554972e-14j\n",
      " -0.0462307 -3.16586557e-15j -0.07541418-6.21609726e-16j]\n"
     ]
    }
   ],
   "source": [
    "from qiskit.quantum_info import Statevector\n",
    "\n",
    "naive_sv = Statevector(naive_hhl_solution.state).data\n",
    "\n",
    "# Extract vector components\n",
    "naive_full_vector = np.array([naive_sv[0], naive_sv[1], naive_sv[2], naive_sv[3], naive_sv[4], naive_sv[5], naive_sv[6], naive_sv[7]])\n",
    "\n",
    "print('naive raw solution vector:', naive_full_vector)"
   ]
  },
  {
   "cell_type": "code",
   "execution_count": 62,
   "id": "b4d9a861",
   "metadata": {},
   "outputs": [
    {
     "name": "stdout",
     "output_type": "stream",
     "text": [
      "full naive solution vector: [ 0.59057913  0.53097249 -0.12585682 -0.2000893  -0.09515023 -0.15341811\n",
      " -0.04578171 -0.07468176]\n",
      "classical state: [0.32141217 0.42051426 0.15802765 0.23302383 0.07767461 0.12052956\n",
      " 0.03214122 0.05089026]\n"
     ]
    }
   ],
   "source": [
    "def get_solution_vector(solution):\n",
    "    \"\"\"Extracts and normalizes simulated state vector\n",
    "    from LinearSolverResult.\"\"\"\n",
    "    solution_vector = Statevector(solution.state).data[0:8].real\n",
    "    norm =  classical_solution.euclidean_norm\n",
    "    return norm * solution_vector / naive_hhl_solution.euclidean_norm\n",
    "\n",
    "print('full naive solution vector:', get_solution_vector(naive_hhl_solution))\n",
    "print('classical state:', classical_solution.state)"
   ]
  },
  {
   "cell_type": "markdown",
   "id": "150c408d",
   "metadata": {},
   "source": [
    "after rescaling, we obtain:"
   ]
  },
  {
   "cell_type": "code",
   "execution_count": 38,
   "id": "70a064ec",
   "metadata": {},
   "outputs": [
    {
     "name": "stdout",
     "output_type": "stream",
     "text": [
      "full naive solution vector: [ 47.24633073  42.47779903 -10.06854587 -16.00714378  -7.6120183\n",
      " -12.27344872  -3.66253683  -5.97454096]\n"
     ]
    }
   ],
   "source": [
    "print('full naive solution vector:', get_solution_vector(naive_hhl_solution)*100/1.25)"
   ]
  },
  {
   "cell_type": "code",
   "execution_count": 40,
   "id": "edcb9c67",
   "metadata": {},
   "outputs": [
    {
     "data": {
      "text/plain": [
       "Text(0, 0.5, 'value of temperature')"
      ]
     },
     "execution_count": 40,
     "metadata": {},
     "output_type": "execute_result"
    },
    {
     "data": {
      "image/png": "[encoded data removed]",
      "text/plain": [
       "<Figure size 640x480 with 1 Axes>"
      ]
     },
     "metadata": {},
     "output_type": "display_data"
    }
   ],
   "source": [
    "import matplotlib.pyplot as plt\n",
    "import numpy as np\n",
    "\n",
    "x1  = [1, 2, 3, 4, 5, 6, 7, 8]\n",
    "y1 = [45.45454617, 59.46969791, 22.3484852, 32.95454598, 10.98484866, 17.04545482, 4.54545462, 7.19696981]\n",
    "\n",
    "x2  = [1, 2, 3, 4, 5, 6, 7, 8]\n",
    "y2 =  [47.24633073, 42.47779903, 10.06854587, 16.00714378, 7.6120183, 12.27344872, 3.66253683, 5.97454096]\n",
    "\n",
    "plt.scatter(x1, y1)\n",
    "\n",
    "plt.scatter(x2, y2)\n",
    "\n",
    "plt.title('The temperatures obtained from the classical(blue) and HHL (orange) solutions')\n",
    "plt.xlabel('index of temperature measurements, from 1 to 8')\n",
    "plt.ylabel('value of temperature')"
   ]
  },
  {
   "cell_type": "markdown",
   "id": "41081e78",
   "metadata": {},
   "source": [
    "## Example 2: 2D Poiseuille flow"
   ]
  },
  {
   "cell_type": "markdown",
   "id": "28404197",
   "metadata": {},
   "source": [
    "The next example we are going to explore is 2D Poiseuille flow. Consider two parallel plates between two fluid flows parallel to them. Our target is to calculate the velocity distribution with respect to the distance between the two plates."
   ]
  },
  {
   "cell_type": "markdown",
   "id": "9e58e522",
   "metadata": {},
   "source": [
    "The equation of motion the fluid will obey is given by:"
   ]
  },
  {
   "cell_type": "markdown",
   "id": "7f83aa68",
   "metadata": {},
   "source": [
    "$$\\mu \\frac{\\partial^2 u}{\\partial x^2} = -\\frac{p_1-p_2}{L}$$"
   ]
  },
  {
   "cell_type": "markdown",
   "id": "8672bca2",
   "metadata": {},
   "source": [
    "Again, we will use the finite difference method. Incorporating the above constants in the constant $c$:"
   ]
  },
  {
   "cell_type": "markdown",
   "id": "5dcddc68",
   "metadata": {},
   "source": [
    "$$u_{i+1}-2u_{i}+u_{i-1} = c$$ "
   ]
  },
  {
   "cell_type": "markdown",
   "id": "55b75625",
   "metadata": {},
   "source": [
    "from where one can obtain the matrix:"
   ]
  },
  {
   "cell_type": "markdown",
   "id": "6ebe369f",
   "metadata": {},
   "source": [
    "$$\\begin{pmatrix}\n",
    "-2 & 1 & 0 & 0 & 0 & 0 & 0 & 0\\\\\n",
    "1 & -2 & 1 & 0 & 0 & 0 & 0 & 0 \\\\\n",
    "0 & 1 & -2 & 1 & 0 & 0 & 0 & 0 \\\\\n",
    "0 & 0 & 1 & -2 & 1 & 0 & 0 & 0 \\\\\n",
    "0 & 0 & 0 & 1 & -2 & 1 & 0 & 0 \\\\\n",
    "0 & 0 & 0 & 0 & 1 & -2 & 1 & 0 \\\\\n",
    "0 & 0 & 0 & 0 & 0 & 1 & -2 & 0 \\\\\n",
    "0 & 0 & 0 & 0 & 0 & 0 & 1 & -2 \\\\\n",
    "\\end{pmatrix}\n",
    "\\begin{pmatrix}\n",
    "u_1 \\\\\n",
    "u_2 \\\\\n",
    "u_3 \\\\\n",
    "u_4 \\\\\n",
    "u_5 \\\\\n",
    "u_6 \\\\\n",
    "u_7 \\\\\n",
    "u_8\n",
    "\\end{pmatrix}\n",
    "=\n",
    "\\begin{pmatrix}\n",
    "c \\\\\n",
    "c \\\\\n",
    "c \\\\\n",
    "c \\\\\n",
    "c \\\\\n",
    "c \\\\\n",
    "c \\\\\n",
    "c\n",
    "\\end{pmatrix}\n",
    "$$"
   ]
  },
  {
   "cell_type": "markdown",
   "id": "66d38df9",
   "metadata": {},
   "source": [
    "With the same approach as before:"
   ]
  },
  {
   "cell_type": "code",
   "execution_count": null,
   "id": "3c0920ae",
   "metadata": {},
   "outputs": [],
   "source": [
    "#constructing the matrix A and the vector b\n",
    "matrix = np.array([[-2, 1, 0, 0, 0, 0, 0, 0], [1, -2, 1, 0, 0, 0, 0, 0], [0, 1, -2, 1, 0, 0, 0, 0], [0, 0, 1, -2, 1, 0, 0, 0], [0, 0, 0, 1, -2, 1, 0, 0], [0, 0, 0, 0, 1, -2, 1, 0], [0, 0, 0, 0, 0, 1, -2, 1], [0, 0, 0, 0, 0, 0, 1, -2]])\n",
    "vector = np.array([-100, -100, -100, -100, -100, -100, -100, -100])\n",
    "\n",
    "#defining the HHL solution and the classical solution (used for reference purposes)\n",
    "naive_hhl_solution = HHL().solve(matrix, vector)\n",
    "classical_solution = NumPyLinearSolver().solve(matrix,\n",
    "                                               vector/np.linalg.norm(vector))"
   ]
  },
  {
   "cell_type": "code",
   "execution_count": 42,
   "id": "edd082f0",
   "metadata": {},
   "outputs": [
    {
     "name": "stdout",
     "output_type": "stream",
     "text": [
      "classical state: [1.41421356 2.47487373 3.18198052 3.53553391 3.53553391 3.18198052\n",
      " 2.47487373 1.41421356]\n"
     ]
    }
   ],
   "source": [
    "#calculating the solution using classical methods\n",
    "print('classical state:', classical_solution.state)"
   ]
  },
  {
   "cell_type": "markdown",
   "id": "d023a532",
   "metadata": {},
   "source": [
    "After rescaling:"
   ]
  },
  {
   "cell_type": "code",
   "execution_count": 43,
   "id": "b5f99610",
   "metadata": {},
   "outputs": [
    {
     "name": "stdout",
     "output_type": "stream",
     "text": [
      "classical state: [ 400.06041368  700.10572395  900.13593079 1000.15103421 1000.15103421\n",
      "  900.13593079  700.10572395  400.06041368]\n"
     ]
    }
   ],
   "source": [
    "print('classical state:', classical_solution.state*100/0.3535)"
   ]
  },
  {
   "cell_type": "markdown",
   "id": "06a4e1e8",
   "metadata": {},
   "source": [
    "The ``linear solvers`` package contains a folder called ``matrices`` intended to be a placeholder for efficient implementations of particular types of matrices. The matrix we are working with now is tridiagonal, and therefore we will use the ``TridiagonalToeplitz`` class. The complexity of the algorithm scales polynomially in the number of qubits."
   ]
  },
  {
   "cell_type": "code",
   "execution_count": 59,
   "id": "a4279961",
   "metadata": {},
   "outputs": [],
   "source": [
    "from linear_solvers.matrices.tridiagonal_toeplitz import TridiagonalToeplitz\n",
    "tridi_matrix = TridiagonalToeplitz(3, -2, 1)\n",
    "tridi_solution = HHL().solve(tridi_matrix, vector)"
   ]
  },
  {
   "cell_type": "code",
   "execution_count": 60,
   "id": "8460efca",
   "metadata": {},
   "outputs": [
    {
     "name": "stdout",
     "output_type": "stream",
     "text": [
      "tridiagonal state:\n",
      "          ┌─────────────────┐┌───────┐        ┌──────────┐\n",
      "q25526_0: ┤0                ├┤7      ├────────┤7         ├\n",
      "          │                 ││       │        │          │\n",
      "q25526_1: ┤1 circuit-266735 ├┤8      ├────────┤8         ├\n",
      "          │                 ││       │        │          │\n",
      "q25526_2: ┤2                ├┤9      ├────────┤9         ├\n",
      "          └─────────────────┘│       │┌──────┐│          │\n",
      "q25527_0: ───────────────────┤0      ├┤6     ├┤0         ├\n",
      "                             │       ││      ││          │\n",
      "q25527_1: ───────────────────┤1      ├┤5     ├┤1         ├\n",
      "                             │       ││      ││          │\n",
      "q25527_2: ───────────────────┤2      ├┤4     ├┤2         ├\n",
      "                             │   QPE ││      ││   QPE_dg │\n",
      "q25527_3: ───────────────────┤3      ├┤3     ├┤3         ├\n",
      "                             │       ││      ││          │\n",
      "q25527_4: ───────────────────┤4      ├┤2     ├┤4         ├\n",
      "                             │       ││  1/x ││          │\n",
      "q25527_5: ───────────────────┤5      ├┤1     ├┤5         ├\n",
      "                             │       ││      ││          │\n",
      "q25527_6: ───────────────────┤6      ├┤0     ├┤6         ├\n",
      "                             │       ││      ││          │\n",
      "  a315_0: ───────────────────┤10     ├┤      ├┤10        ├\n",
      "                             │       ││      ││          │\n",
      "  a315_1: ───────────────────┤11     ├┤      ├┤11        ├\n",
      "                             └───────┘│      │└──────────┘\n",
      "  q25528: ────────────────────────────┤7     ├────────────\n",
      "                                      └──────┘            \n"
     ]
    }
   ],
   "source": [
    "print('tridiagonal state:')\n",
    "print(tridi_solution.state)"
   ]
  },
  {
   "cell_type": "code",
   "execution_count": 61,
   "id": "e9cf72c3",
   "metadata": {},
   "outputs": [
    {
     "name": "stdout",
     "output_type": "stream",
     "text": [
      "classical Euclidean norm: 7.842193570679061\n",
      "tridiagonal Euclidean norm: 7.691927176871837\n"
     ]
    }
   ],
   "source": [
    "print('classical Euclidean norm:', classical_solution.euclidean_norm)\n",
    "print('tridiagonal Euclidean norm:', tridi_solution.euclidean_norm)"
   ]
  },
  {
   "cell_type": "code",
   "execution_count": 62,
   "id": "a7a0893e",
   "metadata": {},
   "outputs": [
    {
     "name": "stdout",
     "output_type": "stream",
     "text": [
      "tridi raw solution vector: [-0.20274395+1.55121707e-05j -0.07130033+5.60451222e-04j\n",
      "  0.02375542-2.64519041e-04j  0.07417265-3.11444352e-04j\n",
      "  0.07417265-3.11444352e-04j  0.02375542-2.64519041e-04j\n",
      " -0.07130033+5.60451222e-04j -0.20274395+1.55121707e-05j]\n"
     ]
    }
   ],
   "source": [
    "tridi_sv = Statevector(tridi_solution.state).data\n",
    "\n",
    "# Extract vector components\n",
    "tridi_full_vector = np.array([tridi_sv[0], tridi_sv[1], tridi_sv[2],  tridi_sv[3],  tridi_sv[4],  tridi_sv[5],  tridi_sv[6],  tridi_sv[7]])\n",
    "\n",
    "print('tridi raw solution vector:', tridi_full_vector)"
   ]
  },
  {
   "cell_type": "code",
   "execution_count": 63,
   "id": "ec9f6450",
   "metadata": {},
   "outputs": [
    {
     "name": "stdout",
     "output_type": "stream",
     "text": [
      "full tridi solution vector: [-0.20273932 -0.07129871  0.02375488  0.07417096  0.07417096  0.02375488\n",
      " -0.07129871 -0.20273932]\n"
     ]
    }
   ],
   "source": [
    "print('full tridi solution vector:', get_solution_vector(tridi_solution))"
   ]
  },
  {
   "cell_type": "markdown",
   "id": "787185ad",
   "metadata": {},
   "source": [
    "after rescaling:"
   ]
  },
  {
   "cell_type": "code",
   "execution_count": 66,
   "id": "9839349f",
   "metadata": {},
   "outputs": [
    {
     "name": "stdout",
     "output_type": "stream",
     "text": [
      "full tridi solution vector: [ 399.46817215  691.55842865  902.788617   1014.8243467  1014.8243467\n",
      "  902.788617    691.55842865  399.46817215]\n"
     ]
    }
   ],
   "source": [
    "   print('full tridi solution vector:', get_solution_vector(tridi_solution)*100/0.045 +850)"
   ]
  },
  {
   "cell_type": "code",
   "execution_count": 70,
   "id": "fc53ccac",
   "metadata": {},
   "outputs": [
    {
     "data": {
      "text/plain": [
       "Text(0, 0.5, 'value of velocity')"
      ]
     },
     "execution_count": 70,
     "metadata": {},
     "output_type": "execute_result"
    },
    {
     "data": {
      "image/png": "[encoded data removed]",
      "text/plain": [
       "<Figure size 640x480 with 1 Axes>"
      ]
     },
     "metadata": {},
     "output_type": "display_data"
    }
   ],
   "source": [
    "import matplotlib.pyplot as plt\n",
    "import numpy as np\n",
    "\n",
    "x1  = [1, 2, 3, 4, 5, 6, 7, 8]\n",
    "y1 = [400.06041368, 700.10572395, 900.13593079, 1000.15103421, 1000.15103421, 900.13593079, 700.10572395, 400.06041368]\n",
    "\n",
    "x2  = [1, 2, 3, 4, 5, 6, 7, 8]\n",
    "y2 = [399.46817215, 691.55842865, 902.788617 ,  1014.8243467,  1014.8243467, 902.788617, 691.55842865, 399.46817215]\n",
    "\n",
    "plt.scatter(x1, y1)\n",
    "\n",
    "plt.scatter(x2, y2)\n",
    "\n",
    "plt.title('The velocities obtained from the classical(blue) and HHL (orange) algorithms')\n",
    "plt.xlabel('index of coordinates, from 1 to 8')\n",
    "plt.ylabel('value of velocity')"
   ]
  },
  {
   "cell_type": "markdown",
   "id": "22760938",
   "metadata": {},
   "source": [
    "Therefore, we can see that the velocity profile is parabolic."
   ]
  },
  {
   "cell_type": "markdown",
   "id": "e7fccd7d",
   "metadata": {},
   "source": [
    "## First conclusion"
   ]
  },
  {
   "cell_type": "markdown",
   "id": "b5f45681",
   "metadata": {},
   "source": [
    "As a first conclusion, we noticed that the HHL algorithm provides physically acceptable solutions even before further processing, so that would be enough if our target is to find out the shape of the function a certain physical quantity obeys. If we want correct numerical values, rescaling is required. However, this process can be done through elementary operations."
   ]
  }
 ],
 "metadata": {
  "kernelspec": {
   "display_name": "Python 3 (ipykernel)",
   "language": "python",
   "name": "python3"
  },
  "language_info": {
   "codemirror_mode": {
    "name": "ipython",
    "version": 3
   },
   "file_extension": ".py",
   "mimetype": "text/x-python",
   "name": "python",
   "nbconvert_exporter": "python",
   "pygments_lexer": "ipython3",
   "version": "3.9.13"
  }
 },
 "nbformat": 4,
 "nbformat_minor": 5
}
